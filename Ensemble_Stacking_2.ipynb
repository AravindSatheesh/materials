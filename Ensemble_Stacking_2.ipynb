{
 "cells": [
  {
   "cell_type": "markdown",
   "metadata": {},
   "source": [
    "## Stacking"
   ]
  },
  {
   "cell_type": "code",
   "execution_count": 28,
   "metadata": {},
   "outputs": [
    {
     "name": "stdout",
     "output_type": "stream",
     "text": [
      "Requirement already satisfied: vecstack in c:\\users\\user\\anaconda3\\lib\\site-packages (0.4.0)\n",
      "Requirement already satisfied: scipy in c:\\users\\user\\anaconda3\\lib\\site-packages (from vecstack) (1.2.1)\n",
      "Requirement already satisfied: numpy in c:\\users\\user\\anaconda3\\lib\\site-packages (from vecstack) (1.16.2)\n",
      "Requirement already satisfied: scikit-learn>=0.18 in c:\\users\\user\\anaconda3\\lib\\site-packages (from vecstack) (0.21.3)\n",
      "Requirement already satisfied: joblib>=0.11 in c:\\users\\user\\anaconda3\\lib\\site-packages (from scikit-learn>=0.18->vecstack) (0.13.2)\n"
     ]
    }
   ],
   "source": [
    "# !pip install vecstack"
   ]
  },
  {
   "cell_type": "code",
   "execution_count": 5,
   "metadata": {},
   "outputs": [],
   "source": [
    "import pandas as pd\n",
    "from sklearn.datasets import load_iris\n",
    "from sklearn.model_selection import train_test_split\n",
    "from sklearn.metrics import accuracy_score\n",
    "from vecstack import stacking\n",
    "\n",
    "from sklearn import model_selection\n",
    "from sklearn.linear_model import LogisticRegression\n",
    "from sklearn.neighbors import KNeighborsClassifier\n",
    "from sklearn.naive_bayes import GaussianNB \n",
    "from sklearn.ensemble import RandomForestClassifier\n",
    "from mlxtend.classifier import StackingClassifier\n",
    "from xgboost import XGBClassifier\n",
    "import numpy as np\n",
    "import warnings\n",
    "\n",
    "warnings.simplefilter('ignore')"
   ]
  },
  {
   "cell_type": "code",
   "execution_count": 6,
   "metadata": {},
   "outputs": [
    {
     "data": {
      "text/html": [
       "<div>\n",
       "<style scoped>\n",
       "    .dataframe tbody tr th:only-of-type {\n",
       "        vertical-align: middle;\n",
       "    }\n",
       "\n",
       "    .dataframe tbody tr th {\n",
       "        vertical-align: top;\n",
       "    }\n",
       "\n",
       "    .dataframe thead th {\n",
       "        text-align: right;\n",
       "    }\n",
       "</style>\n",
       "<table border=\"1\" class=\"dataframe\">\n",
       "  <thead>\n",
       "    <tr style=\"text-align: right;\">\n",
       "      <th></th>\n",
       "      <th>Class</th>\n",
       "      <th>Alcohol</th>\n",
       "      <th>Malic acid</th>\n",
       "      <th>Ash</th>\n",
       "      <th>Alcalinity of ash</th>\n",
       "      <th>Magnesium</th>\n",
       "      <th>Total phenols</th>\n",
       "      <th>Flavanoids</th>\n",
       "      <th>Nonflavanoid phenols</th>\n",
       "      <th>Proanthocyanins</th>\n",
       "      <th>Color intensity</th>\n",
       "      <th>Hue</th>\n",
       "      <th>OD280/OD315 of diluted wines</th>\n",
       "      <th>Proline</th>\n",
       "    </tr>\n",
       "  </thead>\n",
       "  <tbody>\n",
       "    <tr>\n",
       "      <th>116</th>\n",
       "      <td>2</td>\n",
       "      <td>11.82</td>\n",
       "      <td>1.47</td>\n",
       "      <td>1.99</td>\n",
       "      <td>20.8</td>\n",
       "      <td>86</td>\n",
       "      <td>1.98</td>\n",
       "      <td>1.60</td>\n",
       "      <td>0.30</td>\n",
       "      <td>1.53</td>\n",
       "      <td>1.95</td>\n",
       "      <td>0.95</td>\n",
       "      <td>3.33</td>\n",
       "      <td>495</td>\n",
       "    </tr>\n",
       "    <tr>\n",
       "      <th>105</th>\n",
       "      <td>2</td>\n",
       "      <td>12.42</td>\n",
       "      <td>2.55</td>\n",
       "      <td>2.27</td>\n",
       "      <td>22.0</td>\n",
       "      <td>90</td>\n",
       "      <td>1.68</td>\n",
       "      <td>1.84</td>\n",
       "      <td>0.66</td>\n",
       "      <td>1.42</td>\n",
       "      <td>2.70</td>\n",
       "      <td>0.86</td>\n",
       "      <td>3.30</td>\n",
       "      <td>315</td>\n",
       "    </tr>\n",
       "    <tr>\n",
       "      <th>49</th>\n",
       "      <td>1</td>\n",
       "      <td>13.94</td>\n",
       "      <td>1.73</td>\n",
       "      <td>2.27</td>\n",
       "      <td>17.4</td>\n",
       "      <td>108</td>\n",
       "      <td>2.88</td>\n",
       "      <td>3.54</td>\n",
       "      <td>0.32</td>\n",
       "      <td>2.08</td>\n",
       "      <td>8.90</td>\n",
       "      <td>1.12</td>\n",
       "      <td>3.10</td>\n",
       "      <td>1260</td>\n",
       "    </tr>\n",
       "    <tr>\n",
       "      <th>150</th>\n",
       "      <td>3</td>\n",
       "      <td>13.50</td>\n",
       "      <td>3.12</td>\n",
       "      <td>2.62</td>\n",
       "      <td>24.0</td>\n",
       "      <td>123</td>\n",
       "      <td>1.40</td>\n",
       "      <td>1.57</td>\n",
       "      <td>0.22</td>\n",
       "      <td>1.25</td>\n",
       "      <td>8.60</td>\n",
       "      <td>0.59</td>\n",
       "      <td>1.30</td>\n",
       "      <td>500</td>\n",
       "    </tr>\n",
       "    <tr>\n",
       "      <th>163</th>\n",
       "      <td>3</td>\n",
       "      <td>12.96</td>\n",
       "      <td>3.45</td>\n",
       "      <td>2.35</td>\n",
       "      <td>18.5</td>\n",
       "      <td>106</td>\n",
       "      <td>1.39</td>\n",
       "      <td>0.70</td>\n",
       "      <td>0.40</td>\n",
       "      <td>0.94</td>\n",
       "      <td>5.28</td>\n",
       "      <td>0.68</td>\n",
       "      <td>1.75</td>\n",
       "      <td>675</td>\n",
       "    </tr>\n",
       "  </tbody>\n",
       "</table>\n",
       "</div>"
      ],
      "text/plain": [
       "     Class  Alcohol  Malic acid   Ash  Alcalinity of ash  Magnesium  \\\n",
       "116      2    11.82        1.47  1.99               20.8         86   \n",
       "105      2    12.42        2.55  2.27               22.0         90   \n",
       "49       1    13.94        1.73  2.27               17.4        108   \n",
       "150      3    13.50        3.12  2.62               24.0        123   \n",
       "163      3    12.96        3.45  2.35               18.5        106   \n",
       "\n",
       "     Total phenols  Flavanoids  Nonflavanoid phenols  Proanthocyanins  \\\n",
       "116           1.98        1.60                  0.30             1.53   \n",
       "105           1.68        1.84                  0.66             1.42   \n",
       "49            2.88        3.54                  0.32             2.08   \n",
       "150           1.40        1.57                  0.22             1.25   \n",
       "163           1.39        0.70                  0.40             0.94   \n",
       "\n",
       "     Color intensity   Hue  OD280/OD315 of diluted wines  Proline  \n",
       "116             1.95  0.95                          3.33      495  \n",
       "105             2.70  0.86                          3.30      315  \n",
       "49              8.90  1.12                          3.10     1260  \n",
       "150             8.60  0.59                          1.30      500  \n",
       "163             5.28  0.68                          1.75      675  "
      ]
     },
     "execution_count": 6,
     "metadata": {},
     "output_type": "execute_result"
    }
   ],
   "source": [
    "link = 'https://archive.ics.uci.edu/ml/machine-learning-databases/wine/wine.data'\n",
    "names = ['Class', 'Alcohol', 'Malic acid', 'Ash',\n",
    "         'Alcalinity of ash' ,'Magnesium', 'Total phenols',\n",
    "         'Flavanoids', 'Nonflavanoid phenols', 'Proanthocyanins',     'Color intensity', 'Hue', 'OD280/OD315 of diluted wines',\n",
    "         'Proline']\n",
    "df = pd.read_csv(link, header=None, names=names)\n",
    "df.sample(5)"
   ]
  },
  {
   "cell_type": "code",
   "execution_count": 9,
   "metadata": {},
   "outputs": [],
   "source": [
    "y = df[['Class']]\n",
    "X = df.iloc[:,1:]\n",
    "X_train, X_test, y_train, y_test = train_test_split(X, y, test_size=0.2, random_state=0)"
   ]
  },
  {
   "cell_type": "code",
   "execution_count": 10,
   "metadata": {},
   "outputs": [],
   "source": [
    "models = [\n",
    "    KNeighborsClassifier(n_neighbors=5,\n",
    "                        n_jobs=-1),\n",
    "\n",
    "    RandomForestClassifier(random_state=0, n_jobs=-1,\n",
    "                           n_estimators=100, max_depth=3),\n",
    "\n",
    "    XGBClassifier(random_state=0, n_jobs=-1, learning_rate=0.1,\n",
    "                  n_estimators=100, max_depth=3)\n",
    "]"
   ]
  },
  {
   "cell_type": "code",
   "execution_count": 11,
   "metadata": {},
   "outputs": [
    {
     "name": "stdout",
     "output_type": "stream",
     "text": [
      "task:         [classification]\n",
      "n_classes:    [3]\n",
      "metric:       [accuracy_score]\n",
      "mode:         [oof_pred_bag]\n",
      "n_models:     [3]\n",
      "\n",
      "model  0:     [KNeighborsClassifier]\n",
      "    fold  0:  [0.64864865]\n",
      "    fold  1:  [0.69444444]\n",
      "    fold  2:  [0.74285714]\n",
      "    fold  3:  [0.76470588]\n",
      "    ----\n",
      "    MEAN:     [0.71266403] + [0.04486062]\n",
      "    FULL:     [0.71126761]\n",
      "\n",
      "model  1:     [RandomForestClassifier]\n",
      "    fold  0:  [1.00000000]\n",
      "    fold  1:  [0.94444444]\n",
      "    fold  2:  [1.00000000]\n",
      "    fold  3:  [0.97058824]\n",
      "    ----\n",
      "    MEAN:     [0.97875817] + [0.02316576]\n",
      "    FULL:     [0.97887324]\n",
      "\n",
      "model  2:     [XGBClassifier]\n",
      "    fold  0:  [0.94594595]\n",
      "    fold  1:  [0.91666667]\n",
      "    fold  2:  [0.97142857]\n",
      "    fold  3:  [0.97058824]\n",
      "    ----\n",
      "    MEAN:     [0.95115735] + [0.02239000]\n",
      "    FULL:     [0.95070423]\n",
      "\n"
     ]
    }
   ],
   "source": [
    "S_train, S_test = stacking(models,\n",
    "                           X_train, y_train, X_test,\n",
    "                           regression=False,\n",
    "\n",
    "                           mode='oof_pred_bag',\n",
    "\n",
    "                           needs_proba=False,\n",
    "\n",
    "                           save_dir=None,\n",
    "\n",
    "                           metric=accuracy_score,\n",
    "\n",
    "                           n_folds=4,\n",
    "\n",
    "                           stratified=True,\n",
    "\n",
    "                           shuffle=True,\n",
    "\n",
    "                           random_state=0,\n",
    "\n",
    "                           verbose=2)"
   ]
  },
  {
   "cell_type": "code",
   "execution_count": 12,
   "metadata": {},
   "outputs": [
    {
     "name": "stdout",
     "output_type": "stream",
     "text": [
      "Final prediction score: [0.94444444]\n"
     ]
    }
   ],
   "source": [
    "model = RandomForestClassifier(random_state=0, n_jobs=-1,\n",
    "                           n_estimators=100, max_depth=3)\n",
    "    \n",
    "model = model.fit(S_train, y_train)\n",
    "y_pred = model.predict(S_test)\n",
    "print('Final prediction score: [%.8f]' % accuracy_score(y_test, y_pred))"
   ]
  },
  {
   "cell_type": "code",
   "execution_count": null,
   "metadata": {},
   "outputs": [],
   "source": []
  }
 ],
 "metadata": {
  "kernelspec": {
   "display_name": "Python 3",
   "language": "python",
   "name": "python3"
  },
  "language_info": {
   "codemirror_mode": {
    "name": "ipython",
    "version": 3
   },
   "file_extension": ".py",
   "mimetype": "text/x-python",
   "name": "python",
   "nbconvert_exporter": "python",
   "pygments_lexer": "ipython3",
   "version": "3.7.3"
  }
 },
 "nbformat": 4,
 "nbformat_minor": 2
}
